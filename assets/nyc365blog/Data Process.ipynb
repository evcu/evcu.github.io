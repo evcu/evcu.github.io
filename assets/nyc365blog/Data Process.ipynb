{
 "cells": [
  {
   "cell_type": "code",
   "execution_count": 1,
   "metadata": {
    "collapsed": true
   },
   "outputs": [],
   "source": [
    "import json\n",
    "with open('data.json') as f:\n",
    "    dd = json.loads(f.read())"
   ]
  },
  {
   "cell_type": "code",
   "execution_count": 21,
   "metadata": {},
   "outputs": [
    {
     "name": "stdout",
     "output_type": "stream",
     "text": [
      "Neutral:0.42\n",
      "Happy:0.54\n",
      "Sad:0.05\n"
     ]
    }
   ],
   "source": [
    "all_m = [d['mood'] for d in dd]\n",
    "neutral_m = [d for d in all_m if d=='0']\n",
    "good_m = [d for d in all_m if d=='1']\n",
    "sad_m = [d for d in all_m if d=='-1']\n",
    "print(f'Neutral:{len(neutral_m)/len(all_m):.2f}\\n'\n",
    "      f'Happy:{len(good_m)/len(all_m):.2f}\\n'\n",
    "      'Sad:{len(sad_m)/len(all_m):.2f}')"
   ]
  },
  {
   "cell_type": "code",
   "execution_count": 43,
   "metadata": {},
   "outputs": [
    {
     "name": "stdout",
     "output_type": "stream",
     "text": [
      "Mon\n",
      "Neutral:0.56\n",
      "Happy:0.42\n",
      "Sad:0.02\n",
      "Tue\n",
      "Neutral:0.51\n",
      "Happy:0.47\n",
      "Sad:0.02\n",
      "Wed\n",
      "Neutral:0.41\n",
      "Happy:0.51\n",
      "Sad:0.08\n",
      "Thu\n",
      "Neutral:0.39\n",
      "Happy:0.57\n",
      "Sad:0.04\n",
      "Fri\n",
      "Neutral:0.20\n",
      "Happy:0.73\n",
      "Sad:0.08\n",
      "Sat\n",
      "Neutral:0.31\n",
      "Happy:0.63\n",
      "Sad:0.06\n",
      "Sun\n",
      "Neutral:0.56\n",
      "Happy:0.42\n",
      "Sad:0.02\n"
     ]
    }
   ],
   "source": [
    "from datetime import datetime\n",
    "label_dict= {0:'Mon',1:'Tue',2:'Wed',3:'Thu',4:'Fri',5:'Sat',6:'Sun'}\n",
    "for i in range(7):\n",
    "    print(label_dict[i])\n",
    "    all_m = [d['mood'] for d in dd if datetime.strptime(d['date'], '%Y-%m-%d').weekday()==i]\n",
    "    neutral_m = [d for d in all_m if d=='0']\n",
    "    good_m = [d for d in all_m if d=='1']\n",
    "    sad_m = [d for d in all_m if d=='-1']\n",
    "    print(f'Neutral:{len(neutral_m)/len(all_m):.2f}\\n'\n",
    "          f'Happy:{len(good_m)/len(all_m):.2f}\\n'\n",
    "          f'Sad:{len(sad_m)/len(all_m):.2f}')\n",
    "\n"
   ]
  },
  {
   "cell_type": "code",
   "execution_count": 61,
   "metadata": {},
   "outputs": [
    {
     "name": "stdout",
     "output_type": "stream",
     "text": [
      "showing info https://raw.githubusercontent.com/nltk/nltk_data/gh-pages/index.xml\n"
     ]
    },
    {
     "data": {
      "text/plain": [
       "True"
      ]
     },
     "execution_count": 61,
     "metadata": {},
     "output_type": "execute_result"
    }
   ],
   "source": [
    "nltk.download()"
   ]
  },
  {
   "cell_type": "code",
   "execution_count": 79,
   "metadata": {
    "collapsed": true
   },
   "outputs": [],
   "source": [
    "from nltk.corpus import stopwords \n",
    "from collections import Counter\n",
    "all_days = [d['text'] for d in dd]\n",
    "all_text = ' '.join(all_days)\n",
    "for char in '-.,\\n;:)':\n",
    "    all_text=all_text.replace(char,' ')\n",
    "all_text = all_text.lower()\n",
    "# split returns a list of words delimited by sequences of whitespace (including tabs, newlines, etc, like re's \\s) \n",
    "s_words = set(stopwords.words('english'))\n",
    "word_list = [w for w in all_text.split() if w not in s_words] \n",
    "all_cc = Counter(word_list)"
   ]
  },
  {
   "cell_type": "code",
   "execution_count": 96,
   "metadata": {},
   "outputs": [
    {
     "name": "stdout",
     "output_type": "stream",
     "text": [
      "('great', 31, 0.056115641215715356)\n",
      "('good', 52, 0.048332097850259464)\n",
      "('nice', 30, 0.03958487768717568)\n",
      "('get', 23, 0.03091178650852483)\n",
      "('time', 33, 0.030022238695329884)\n",
      "('last', 15, 0.02542624166048925)\n",
      "('fun', 17, 0.024684951816160122)\n",
      "('work', 14, 0.022979985174203105)\n",
      "('friends', 13, 0.02053372868791698)\n",
      "('make', 15, 0.01979243884358784)\n",
      "('lets', 15, 0.016975537435137134)\n",
      "('may', 10, 0.016011860637509263)\n",
      "('home', 10, 0.016011860637509263)\n",
      "('right', 11, 0.0156412157153447)\n",
      "('back', 14, 0.014529280948850996)\n",
      "('night', 15, 0.014158636026686433)\n",
      "('gonna', 16, 0.013787991104521863)\n",
      "('days', 17, 0.013417346182357306)\n",
      "('long', 11, 0.012824314306893993)\n",
      "('people', 34, 0.012750185322461083)\n",
      "('way', 16, 0.010971089696071162)\n",
      "('omg', 11, 0.010007412898443292)\n",
      "('thing', 15, 0.008524833209785018)\n",
      "('thats', 15, 0.008524833209785018)\n",
      "('part', 10, 0.007561156412157148)\n",
      "('would', 10, 0.007561156412157148)\n",
      "('book', 10, 0.007561156412157148)\n",
      "('need', 18, 0.007412898443291335)\n",
      "('feeling', 14, 0.006078576723498888)\n",
      "('much', 22, 0.005930318754633054)\n",
      "('bad', 10, 0.004744255003706448)\n",
      "('got', 18, 0.004595997034840621)\n",
      "('also', 13, 0.0036323202372127578)\n",
      "('sleep', 13, 0.0036323202372127578)\n",
      "('life', 21, 0.003484062268346924)\n",
      "('first', 10, 0.0019273535952557402)\n",
      "('day', 43, 0.0009636767976278771)\n",
      "('know', 12, -0.0016308376575240868)\n",
      "('happy', 16, -0.003113417346182354)\n",
      "('go', 18, -0.0038547071905114805)\n",
      "('better', 15, -0.005559673832468498)\n",
      "('one', 31, -0.008673091178650838)\n",
      "('things', 32, -0.009043736100815436)\n",
      "('late', 18, -0.009488510007412895)\n",
      "('stuff', 36, -0.01052631578947369)\n",
      "('really', 15, -0.011193476649369913)\n",
      "('maybe', 28, -0.013194959229058584)\n",
      "('like', 41, -0.034914751667902144)\n",
      "('today', 26, -0.03498888065233505)\n",
      "('feel', 28, -0.038547071905114916)\n"
     ]
    }
   ],
   "source": [
    "from nltk.corpus import stopwords \n",
    "from collections import Counter\n",
    "all_happy_days = [d['text'] for d in dd if d['mood']=='1']\n",
    "all_happy_text = ' '.join(all_happy_days)\n",
    "for char in '-.,\\n;:)':\n",
    "    all_happy_text=all_happy_text.replace(char,' ')\n",
    "all_happy_text = all_happy_text.lower()\n",
    "# split returns a list of words delimited by sequences of whitespace (including tabs, newlines, etc, like re's \\s) \n",
    "s_words = set(stopwords.words('english'))\n",
    "word_list = [w for w in all_happy_text.split() if w not in s_words] \n",
    "cc = Counter(word_list).most_common(50)\n",
    "f_cc = [(word,count,count/len(all_happy_days)-all_cc[word]/len(all_days)) for word,count in cc]\n",
    "for d in sorted(f_cc, key=lambda a:a[2],reverse=True):\n",
    "    print(d)\n"
   ]
  },
  {
   "cell_type": "code",
   "execution_count": 97,
   "metadata": {},
   "outputs": [
    {
     "name": "stdout",
     "output_type": "stream",
     "text": [
      "('one', 11, 0.515669014084507)\n",
      "('choices', 7, 0.41214788732394364)\n",
      "('life', 8, 0.39295774647887327)\n",
      "('hate', 5, 0.27306338028169014)\n",
      "('new', 4, 0.21338028169014084)\n",
      "('two', 4, 0.21338028169014084)\n",
      "('day', 7, 0.21214788732394366)\n",
      "('things', 6, 0.19753521126760562)\n",
      "('failed', 3, 0.17623239436619717)\n",
      "('every', 3, 0.16778169014084507)\n",
      "('got', 4, 0.15985915492957747)\n",
      "('us', 3, 0.14806338028169014)\n",
      "('bad', 3, 0.13961267605633804)\n",
      "('another', 3, 0.1283450704225352)\n",
      "('back', 3, 0.1283450704225352)\n",
      "('feeling', 3, 0.1198943661971831)\n",
      "('think', 3, 0.1198943661971831)\n",
      "('kinds', 2, 0.11936619718309859)\n",
      "('ends', 2, 0.11936619718309859)\n",
      "('options', 2, 0.11936619718309859)\n",
      "('constant', 2, 0.11936619718309859)\n",
      "('thing', 3, 0.11707746478873239)\n",
      "('choice', 2, 0.11654929577464788)\n",
      "('way', 3, 0.11426056338028169)\n",
      "('ate', 2, 0.11373239436619718)\n",
      "('game', 2, 0.11373239436619718)\n",
      "('stuff', 5, 0.11249999999999999)\n",
      "('beer', 2, 0.10809859154929577)\n",
      "('okay', 2, 0.10809859154929577)\n",
      "('sure', 2, 0.10528169014084507)\n",
      "('needs', 2, 0.10528169014084507)\n",
      "('better', 3, 0.10299295774647887)\n",
      "('1', 2, 0.10246478873239437)\n",
      "('yes', 2, 0.10246478873239437)\n",
      "('happy', 3, 0.10017605633802817)\n",
      "('2', 2, 0.09964788732394367)\n",
      "('say', 2, 0.09964788732394367)\n",
      "('enjoy', 2, 0.09683098591549295)\n",
      "('actually', 2, 0.09401408450704225)\n",
      "('morning', 2, 0.09401408450704225)\n",
      "('forget', 2, 0.09401408450704225)\n",
      "('tomorrow', 2, 0.09119718309859155)\n",
      "('drink', 2, 0.08838028169014084)\n",
      "('sleep', 2, 0.060211267605633806)\n",
      "('gonna', 2, 0.05457746478873239)\n",
      "('people', 3, 0.02130281690140845)\n",
      "('today', 3, 0.01566901408450705)\n",
      "('maybe', 2, -0.03556338028169015)\n",
      "('good', 3, -0.03785211267605634)\n",
      "('like', 2, -0.12570422535211268)\n"
     ]
    }
   ],
   "source": [
    "from nltk.corpus import stopwords \n",
    "from collections import Counter\n",
    "all_happy_days = [d['text'] for d in dd if d['mood']=='-1']\n",
    "all_happy_text = ' '.join(all_happy_days)\n",
    "for char in '-.,\\n;:)':\n",
    "    all_happy_text=all_happy_text.replace(char,' ')\n",
    "all_happy_text = all_happy_text.lower()\n",
    "# split returns a list of words delimited by sequences of whitespace (including tabs, newlines, etc, like re's \\s) \n",
    "s_words = set(stopwords.words('english'))\n",
    "word_list = [w for w in all_happy_text.split() if w not in s_words] \n",
    "cc = Counter(word_list).most_common(50)\n",
    "f_cc = [(word,count,count/len(all_happy_days)-all_cc[word]/len(all_days)) for word,count in cc]\n",
    "for d in sorted(f_cc, key=lambda a:a[2],reverse=True):\n",
    "    print(d)\n"
   ]
  },
  {
   "cell_type": "code",
   "execution_count": 98,
   "metadata": {},
   "outputs": [
    {
     "name": "stdout",
     "output_type": "stream",
     "text": [
      "('feel', 37, 0.06240665469326023)\n",
      "('like', 46, 0.058020606862652424)\n",
      "('kind', 21, 0.05643255506191511)\n",
      "('remember', 17, 0.04648832592872673)\n",
      "('thoughts', 14, 0.043255506191511486)\n",
      "('today', 32, 0.042934114755647984)\n",
      "('spent', 10, 0.03049437564987239)\n",
      "('random', 12, 0.02983268739956517)\n",
      "('entry', 12, 0.02983268739956517)\n",
      "('hard', 11, 0.028755080820493432)\n",
      "('/', 7, 0.02726155591265715)\n",
      "('flow', 7, 0.024444654504206447)\n",
      "('getting', 12, 0.02419888458266376)\n",
      "('really', 17, 0.023953114661121086)\n",
      "('lazy', 7, 0.021627753095755743)\n",
      "('forgot', 9, 0.02096606484544853)\n",
      "('maybe', 27, 0.020644673409585007)\n",
      "('looks', 6, 0.020550146516683993)\n",
      "('brain', 5, 0.01947253993761225)\n",
      "('problem', 5, 0.01665563852916155)\n",
      "('late', 18, 0.01658001701484073)\n",
      "('little', 7, 0.015993950278854335)\n",
      "('enough', 6, 0.014916343699782585)\n",
      "('pretty', 6, 0.014916343699782585)\n",
      "('said', 8, 0.014254655449475372)\n",
      "('started', 5, 0.013838737120710841)\n",
      "('study', 5, 0.013838737120710841)\n",
      "('whether', 5, 0.013838737120710841)\n",
      "('weird', 10, 0.013592967199168166)\n",
      "('working', 7, 0.013177048870403635)\n",
      "('think', 12, 0.012931278948860953)\n",
      "('want', 9, 0.012515360620096422)\n",
      "('big', 6, 0.01209944229133188)\n",
      "('sometimes', 11, 0.011853672369789209)\n",
      "('sick', 5, 0.011021835712260137)\n",
      "('wanna', 10, 0.010776065790717458)\n",
      "('felt', 7, 0.010360147461952927)\n",
      "('machine', 7, 0.010360147461952927)\n",
      "('able', 9, 0.009698459211645714)\n",
      "('going', 9, 0.009698459211645714)\n",
      "('actually', 6, 0.009282540882881177)\n",
      "('sleeping', 6, 0.009282540882881177)\n",
      "('know', 11, 0.009036770961338508)\n",
      "('go', 16, 0.008791001039795826)\n",
      "('read', 5, 0.008204934303809433)\n",
      "('fast', 5, 0.008204934303809433)\n",
      "('thought', 5, 0.008204934303809433)\n",
      "('talk', 5, 0.008204934303809433)\n",
      "('thinking', 6, 0.006465639474430476)\n",
      "('log', 6, 0.006465639474430476)\n",
      "('interesting', 5, 0.005388032895358729)\n",
      "('start', 7, 0.0047263446450515195)\n",
      "('much', 17, 0.004234804801966155)\n",
      "('end', 5, 0.002571131486908025)\n",
      "('lot', 5, 0.002571131486908025)\n",
      "('someone', 5, 0.002571131486908025)\n",
      "('love', 7, 0.0019094432366008121)\n",
      "('stuff', 30, 0.0013422818791946067)\n",
      "('tomorrow', 5, -0.00024576992154267535)\n",
      "('alone', 5, -0.00024576992154267535)\n",
      "('see', 5, -0.00024576992154267535)\n",
      "('went', 7, -0.0009074581718498884)\n",
      "('first', 7, -0.0037243595803005958)\n",
      "('better', 12, -0.003970129501843278)\n",
      "('also', 9, -0.004386047830607802)\n",
      "('book', 6, -0.0048019661593723464)\n",
      "('another', 8, -0.0054636544096795525)\n",
      "('hate', 5, -0.00587957273844409)\n",
      "('us', 5, -0.00587957273844409)\n",
      "('fine', 5, -0.00587957273844409)\n",
      "('happy', 12, -0.0067870309102939785)\n",
      "('need', 12, -0.0067870309102939785)\n",
      "('omg', 6, -0.007618867567823047)\n",
      "('haha', 5, -0.00869647414689479)\n",
      "('still', 5, -0.00869647414689479)\n",
      "('days', 10, -0.008942244068437466)\n",
      "('things', 25, -0.009679553833065513)\n",
      "('thats', 9, -0.010019850647509217)\n",
      "('sleep', 8, -0.01109745722658096)\n",
      "('part', 5, -0.011513375555345498)\n",
      "('long', 5, -0.011513375555345498)\n",
      "('would', 5, -0.011513375555345498)\n",
      "('lets', 7, -0.014991965214103412)\n",
      "('night', 7, -0.017808866622554112)\n",
      "('people', 22, -0.018546176387182145)\n",
      "('feeling', 7, -0.020625768031004812)\n",
      "('got', 10, -0.023026751110690996)\n",
      "('gonna', 7, -0.023442669439455527)\n",
      "('thing', 7, -0.023442669439455527)\n",
      "('day', 30, -0.024009830796861725)\n",
      "('make', 5, -0.025597882597599014)\n",
      "('way', 7, -0.026259570847906227)\n",
      "('time', 17, -0.029568012099442292)\n",
      "('fun', 5, -0.031231685414500422)\n",
      "('get', 8, -0.036449569902637306)\n",
      "('one', 19, -0.04431420739200301)\n",
      "('nice', 11, -0.04448435579922487)\n",
      "('life', 9, -0.046639568957368364)\n",
      "('good', 25, -0.057566877776727476)\n",
      "('great', 7, -0.060062387749314675)\n"
     ]
    }
   ],
   "source": [
    "from nltk.corpus import stopwords \n",
    "from collections import Counter\n",
    "all_happy_days = [d['text'] for d in dd if d['mood']=='0']\n",
    "all_happy_text = ' '.join(all_happy_days)\n",
    "for char in '-.,\\n;:)':\n",
    "    all_happy_text=all_happy_text.replace(char,' ')\n",
    "all_happy_text = all_happy_text.lower()\n",
    "# split returns a list of words delimited by sequences of whitespace (including tabs, newlines, etc, like re's \\s) \n",
    "s_words = set(stopwords.words('english'))\n",
    "word_list = [w for w in all_happy_text.split() if w not in s_words] \n",
    "cc = Counter(word_list).most_common(100)\n",
    "f_cc = [(word,count,count/len(all_happy_days)-all_cc[word]/len(all_days)) for word,count in cc]\n",
    "for d in sorted(f_cc, key=lambda a:a[2],reverse=True):\n",
    "    print(d)\n"
   ]
  },
  {
   "cell_type": "code",
   "execution_count": null,
   "metadata": {
    "collapsed": true
   },
   "outputs": [],
   "source": []
  }
 ],
 "metadata": {
  "kernelspec": {
   "display_name": "Python 3",
   "language": "python",
   "name": "python3"
  },
  "language_info": {
   "codemirror_mode": {
    "name": "ipython",
    "version": 3
   },
   "file_extension": ".py",
   "mimetype": "text/x-python",
   "name": "python",
   "nbconvert_exporter": "python",
   "pygments_lexer": "ipython3",
   "version": "3.6.3"
  }
 },
 "nbformat": 4,
 "nbformat_minor": 2
}
